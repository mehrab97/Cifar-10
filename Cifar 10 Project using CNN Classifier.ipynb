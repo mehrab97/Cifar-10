{
 "cells": [
  {
   "cell_type": "code",
   "execution_count": 2,
   "metadata": {},
   "outputs": [],
   "source": [
    "#Importing the required libraries\n",
    "import tensorflow as tf\n",
    "import keras\n",
    "from tensorflow.keras import datasets,layers,models\n",
    "import matplotlib.pyplot as plt\n",
    "import numpy as np"
   ]
  },
  {
   "cell_type": "code",
   "execution_count": 5,
   "metadata": {},
   "outputs": [
    {
     "name": "stdout",
     "output_type": "stream",
     "text": [
      "Data has apparently already been downloaded and unpacked.\n"
     ]
    }
   ],
   "source": [
    "import cifar10\n",
    "cifar10.data_path = \"data/CIFAR-10/\"\n",
    "cifar10.maybe_download_and_extract()"
   ]
  },
  {
   "cell_type": "code",
   "execution_count": 6,
   "metadata": {},
   "outputs": [
    {
     "name": "stdout",
     "output_type": "stream",
     "text": [
      "Loading data: data/CIFAR-10/cifar-10-batches-py/batches.meta\n"
     ]
    },
    {
     "data": {
      "text/plain": [
       "['airplane',\n",
       " 'automobile',\n",
       " 'bird',\n",
       " 'cat',\n",
       " 'deer',\n",
       " 'dog',\n",
       " 'frog',\n",
       " 'horse',\n",
       " 'ship',\n",
       " 'truck']"
      ]
     },
     "execution_count": 6,
     "metadata": {},
     "output_type": "execute_result"
    }
   ],
   "source": [
    "class_names = cifar10.load_class_names()\n",
    "class_names"
   ]
  },
  {
   "cell_type": "code",
   "execution_count": 11,
   "metadata": {},
   "outputs": [
    {
     "name": "stdout",
     "output_type": "stream",
     "text": [
      "Loading data: data/CIFAR-10/cifar-10-batches-py/data_batch_1\n",
      "Loading data: data/CIFAR-10/cifar-10-batches-py/data_batch_2\n",
      "Loading data: data/CIFAR-10/cifar-10-batches-py/data_batch_3\n",
      "Loading data: data/CIFAR-10/cifar-10-batches-py/data_batch_4\n",
      "Loading data: data/CIFAR-10/cifar-10-batches-py/data_batch_5\n",
      "Loading data: data/CIFAR-10/cifar-10-batches-py/test_batch\n",
      "Train samples: (50000, 32, 32, 3) (50000,)\n",
      "Test samples: (10000, 32, 32, 3) (10000,)\n"
     ]
    }
   ],
   "source": [
    "images_train, cls_train, labels_train = cifar10.load_training_data()\n",
    "images_test, cls_test, labels_test = cifar10.load_test_data()\n",
    "print(\"Train samples:\", images_train.shape, cls_train.shape)\n",
    "print(\"Test samples:\", images_test.shape, cls_test.shape)"
   ]
  },
  {
   "cell_type": "code",
   "execution_count": 12,
   "metadata": {},
   "outputs": [
    {
     "data": {
      "text/plain": [
       "array([[[0.23137255, 0.24313725, 0.24705882],\n",
       "        [0.16862745, 0.18039216, 0.17647059],\n",
       "        [0.19607843, 0.18823529, 0.16862745],\n",
       "        ...,\n",
       "        [0.61960784, 0.51764706, 0.42352941],\n",
       "        [0.59607843, 0.49019608, 0.4       ],\n",
       "        [0.58039216, 0.48627451, 0.40392157]],\n",
       "\n",
       "       [[0.0627451 , 0.07843137, 0.07843137],\n",
       "        [0.        , 0.        , 0.        ],\n",
       "        [0.07058824, 0.03137255, 0.        ],\n",
       "        ...,\n",
       "        [0.48235294, 0.34509804, 0.21568627],\n",
       "        [0.46666667, 0.3254902 , 0.19607843],\n",
       "        [0.47843137, 0.34117647, 0.22352941]],\n",
       "\n",
       "       [[0.09803922, 0.09411765, 0.08235294],\n",
       "        [0.0627451 , 0.02745098, 0.        ],\n",
       "        [0.19215686, 0.10588235, 0.03137255],\n",
       "        ...,\n",
       "        [0.4627451 , 0.32941176, 0.19607843],\n",
       "        [0.47058824, 0.32941176, 0.19607843],\n",
       "        [0.42745098, 0.28627451, 0.16470588]],\n",
       "\n",
       "       ...,\n",
       "\n",
       "       [[0.81568627, 0.66666667, 0.37647059],\n",
       "        [0.78823529, 0.6       , 0.13333333],\n",
       "        [0.77647059, 0.63137255, 0.10196078],\n",
       "        ...,\n",
       "        [0.62745098, 0.52156863, 0.2745098 ],\n",
       "        [0.21960784, 0.12156863, 0.02745098],\n",
       "        [0.20784314, 0.13333333, 0.07843137]],\n",
       "\n",
       "       [[0.70588235, 0.54509804, 0.37647059],\n",
       "        [0.67843137, 0.48235294, 0.16470588],\n",
       "        [0.72941176, 0.56470588, 0.11764706],\n",
       "        ...,\n",
       "        [0.72156863, 0.58039216, 0.36862745],\n",
       "        [0.38039216, 0.24313725, 0.13333333],\n",
       "        [0.3254902 , 0.20784314, 0.13333333]],\n",
       "\n",
       "       [[0.69411765, 0.56470588, 0.45490196],\n",
       "        [0.65882353, 0.50588235, 0.36862745],\n",
       "        [0.70196078, 0.55686275, 0.34117647],\n",
       "        ...,\n",
       "        [0.84705882, 0.72156863, 0.54901961],\n",
       "        [0.59215686, 0.4627451 , 0.32941176],\n",
       "        [0.48235294, 0.36078431, 0.28235294]]])"
      ]
     },
     "execution_count": 12,
     "metadata": {},
     "output_type": "execute_result"
    }
   ],
   "source": [
    "images_train[0]"
   ]
  },
  {
   "cell_type": "code",
   "execution_count": 13,
   "metadata": {},
   "outputs": [
    {
     "data": {
      "text/plain": [
       "array([6, 9, 9, 4, 1])"
      ]
     },
     "execution_count": 13,
     "metadata": {},
     "output_type": "execute_result"
    }
   ],
   "source": [
    "cls_train[:5]"
   ]
  },
  {
   "cell_type": "code",
   "execution_count": 18,
   "metadata": {},
   "outputs": [],
   "source": [
    "x_train=images_train\n",
    "x_test=images_test\n",
    "y_train=cls_train\n",
    "y_test=cls_test"
   ]
  },
  {
   "cell_type": "code",
   "execution_count": 19,
   "metadata": {},
   "outputs": [
    {
     "data": {
      "text/plain": [
       "'truck'"
      ]
     },
     "execution_count": 19,
     "metadata": {},
     "output_type": "execute_result"
    }
   ],
   "source": [
    "class_names[9]"
   ]
  },
  {
   "cell_type": "code",
   "execution_count": 20,
   "metadata": {},
   "outputs": [],
   "source": [
    "def plot_sample(X,y,index):\n",
    "    plt.figure(figsize=(15,2))\n",
    "    plt.imshow(X[index])\n",
    "    plt.xlabel(class_names[y[index]])"
   ]
  },
  {
   "cell_type": "code",
   "execution_count": 21,
   "metadata": {},
   "outputs": [
    {
     "data": {
      "image/png": "[encoded data removed]",
      "text/plain": [
       "<Figure size 1080x144 with 1 Axes>"
      ]
     },
     "metadata": {
      "needs_background": "light"
     },
     "output_type": "display_data"
    }
   ],
   "source": [
    "plot_sample(images_train,y_train,0)"
   ]
  },
  {
   "cell_type": "code",
   "execution_count": 22,
   "metadata": {},
   "outputs": [
    {
     "data": {
      "image/png": "[encoded data removed]",
      "text/plain": [
       "<Figure size 1080x144 with 1 Axes>"
      ]
     },
     "metadata": {
      "needs_background": "light"
     },
     "output_type": "display_data"
    }
   ],
   "source": [
    "plot_sample(x_train,y_train,1)"
   ]
  },
  {
   "cell_type": "code",
   "execution_count": 23,
   "metadata": {},
   "outputs": [
    {
     "data": {
      "image/png": "[encoded data removed]",
      "text/plain": [
       "<Figure size 1080x144 with 1 Axes>"
      ]
     },
     "metadata": {
      "needs_background": "light"
     },
     "output_type": "display_data"
    }
   ],
   "source": [
    "plot_sample(x_train,y_train,3)"
   ]
  },
  {
   "cell_type": "code",
   "execution_count": 24,
   "metadata": {},
   "outputs": [
    {
     "data": {
      "text/plain": [
       "array([[[0.00090734, 0.00095348, 0.00096886],\n",
       "        [0.00066128, 0.00070742, 0.00069204],\n",
       "        [0.00076894, 0.00073818, 0.00066128],\n",
       "        ...,\n",
       "        [0.00242983, 0.00202999, 0.0016609 ],\n",
       "        [0.00233756, 0.00192234, 0.00156863],\n",
       "        [0.00227605, 0.00190696, 0.00158401]],\n",
       "\n",
       "       [[0.00024606, 0.00030757, 0.00030757],\n",
       "        [0.        , 0.        , 0.        ],\n",
       "        [0.00027682, 0.00012303, 0.        ],\n",
       "        ...,\n",
       "        [0.00189158, 0.00135333, 0.00084583],\n",
       "        [0.00183007, 0.00127643, 0.00076894],\n",
       "        [0.0018762 , 0.00133795, 0.00087659]],\n",
       "\n",
       "       [[0.00038447, 0.00036909, 0.00032295],\n",
       "        [0.00024606, 0.00010765, 0.        ],\n",
       "        [0.00075356, 0.00041522, 0.00012303],\n",
       "        ...,\n",
       "        [0.00181469, 0.00129181, 0.00076894],\n",
       "        [0.00184544, 0.00129181, 0.00076894],\n",
       "        [0.00167628, 0.00112265, 0.00064591]],\n",
       "\n",
       "       ...,\n",
       "\n",
       "       [[0.00319877, 0.00261438, 0.00147636],\n",
       "        [0.00309112, 0.00235294, 0.00052288],\n",
       "        [0.00304498, 0.00247597, 0.00039985],\n",
       "        ...,\n",
       "        [0.00246059, 0.00204537, 0.00107651],\n",
       "        [0.00086121, 0.00047674, 0.00010765],\n",
       "        [0.00081507, 0.00052288, 0.00030757]],\n",
       "\n",
       "       [[0.00276817, 0.00213764, 0.00147636],\n",
       "        [0.00266052, 0.00189158, 0.00064591],\n",
       "        [0.00286044, 0.00221453, 0.00046136],\n",
       "        ...,\n",
       "        [0.00282968, 0.00227605, 0.0014456 ],\n",
       "        [0.00149173, 0.00095348, 0.00052288],\n",
       "        [0.00127643, 0.00081507, 0.00052288]],\n",
       "\n",
       "       [[0.00272203, 0.00221453, 0.00178393],\n",
       "        [0.00258362, 0.00198385, 0.0014456 ],\n",
       "        [0.00275279, 0.00218378, 0.00133795],\n",
       "        ...,\n",
       "        [0.0033218 , 0.00282968, 0.00215302],\n",
       "        [0.00232218, 0.00181469, 0.00129181],\n",
       "        [0.00189158, 0.00141484, 0.00110727]]])"
      ]
     },
     "execution_count": 24,
     "metadata": {},
     "output_type": "execute_result"
    }
   ],
   "source": [
    "#Normalizing data\n",
    "#Whenever you have an image, you want to divide each pixel value by 255 to normalize it to 0-1 range\n",
    "\n",
    "x_train[0]/255"
   ]
  },
  {
   "cell_type": "code",
   "execution_count": 25,
   "metadata": {},
   "outputs": [],
   "source": [
    "x_train=x_train/255\n",
    "x_test=x_test/255"
   ]
  },
  {
   "cell_type": "code",
   "execution_count": 26,
   "metadata": {},
   "outputs": [
    {
     "name": "stdout",
     "output_type": "stream",
     "text": [
      "WARNING:tensorflow:From /Users/shabeggill/anaconda3/lib/python3.7/site-packages/tensorflow/python/ops/init_ops.py:1251: calling VarianceScaling.__init__ (from tensorflow.python.ops.init_ops) with dtype is deprecated and will be removed in a future version.\n",
      "Instructions for updating:\n",
      "Call initializer instance with the dtype argument instead of passing it to the constructor\n",
      "WARNING:tensorflow:From /Users/shabeggill/anaconda3/lib/python3.7/site-packages/tensorflow/python/ops/math_grad.py:1250: add_dispatch_support.<locals>.wrapper (from tensorflow.python.ops.array_ops) is deprecated and will be removed in a future version.\n",
      "Instructions for updating:\n",
      "Use tf.where in 2.0, which has the same broadcast rule as np.where\n",
      "Epoch 1/10\n",
      "50000/50000 [==============================] - 32s 644us/sample - loss: 2.3019 - acc: 0.1280\n",
      "Epoch 2/10\n",
      "50000/50000 [==============================] - 31s 626us/sample - loss: 2.3015 - acc: 0.1289\n",
      "Epoch 3/10\n",
      "50000/50000 [==============================] - 33s 657us/sample - loss: 2.3013 - acc: 0.1405\n",
      "Epoch 4/10\n",
      "50000/50000 [==============================] - 32s 642us/sample - loss: 2.3011 - acc: 0.1468\n",
      "Epoch 5/10\n",
      "50000/50000 [==============================] - 31s 629us/sample - loss: 2.3009 - acc: 0.1494\n",
      "Epoch 6/10\n",
      "50000/50000 [==============================] - 32s 643us/sample - loss: 2.3007 - acc: 0.1510\n",
      "Epoch 7/10\n",
      "50000/50000 [==============================] - 32s 640us/sample - loss: 2.3005 - acc: 0.1597\n",
      "Epoch 8/10\n",
      "50000/50000 [==============================] - 32s 641us/sample - loss: 2.3003 - acc: 0.1603\n",
      "Epoch 9/10\n",
      "50000/50000 [==============================] - 32s 633us/sample - loss: 2.3000 - acc: 0.1801\n",
      "Epoch 10/10\n",
      "50000/50000 [==============================] - 32s 637us/sample - loss: 2.2997 - acc: 0.1657\n"
     ]
    },
    {
     "data": {
      "text/plain": [
       "<tensorflow.python.keras.callbacks.History at 0x7fccbdc616d8>"
      ]
     },
     "execution_count": 26,
     "metadata": {},
     "output_type": "execute_result"
    }
   ],
   "source": [
    "#Building a simple artificial neural network \n",
    "\n",
    "ann=models.Sequential([\n",
    "    layers.Flatten(input_shape=(32,32,3)), #I/P layer is a flattend layer\n",
    "    layers.Dense(3000,activation='relu'), #Hidden layer with 3000 neurons\n",
    "    layers.Dense(1000,activation='relu'), #Hidden layer with 1000 neurons\n",
    "    layers.Dense(10,activation='sigmoid') #O/P layer with 10 classes\n",
    "])\n",
    "\n",
    "# y is a value here and not one hot encoded and so we use sparse_categorical_crossentropy. Had y been a one-hot\n",
    "# encoded vector we would have used categorical_crossentropy\n",
    "ann.compile(optimizer='SGD',loss='sparse_categorical_crossentropy',metrics=['accuracy'])\n",
    "ann.fit(x_train,y_train,epochs=10)"
   ]
  },
  {
   "cell_type": "code",
   "execution_count": 27,
   "metadata": {},
   "outputs": [
    {
     "name": "stdout",
     "output_type": "stream",
     "text": [
      "10000/10000 [==============================] - 2s 179us/sample - loss: 2.2994 - acc: 0.1987\n"
     ]
    },
    {
     "data": {
      "text/plain": [
       "[2.299422215652466, 0.1987]"
      ]
     },
     "execution_count": 27,
     "metadata": {},
     "output_type": "execute_result"
    }
   ],
   "source": [
    "ann.evaluate(x_test,y_test) #We get an accuracy of 19.87% using artifical neural network"
   ]
  },
  {
   "cell_type": "code",
   "execution_count": 29,
   "metadata": {},
   "outputs": [
    {
     "name": "stdout",
     "output_type": "stream",
     "text": [
      "Classification Report: \n",
      "               precision    recall  f1-score   support\n",
      "\n",
      "           0       0.33      0.48      0.39      1000\n",
      "           1       0.34      0.14      0.20      1000\n",
      "           2       0.50      0.00      0.00      1000\n",
      "           3       0.00      0.00      0.00      1000\n",
      "           4       0.16      0.00      0.01      1000\n",
      "           5       0.14      0.76      0.23      1000\n",
      "           6       0.25      0.00      0.00      1000\n",
      "           7       0.24      0.00      0.01      1000\n",
      "           8       0.00      0.00      0.00      1000\n",
      "           9       0.24      0.59      0.34      1000\n",
      "\n",
      "    accuracy                           0.20     10000\n",
      "   macro avg       0.22      0.20      0.12     10000\n",
      "weighted avg       0.22      0.20      0.12     10000\n",
      "\n"
     ]
    }
   ],
   "source": [
    "#As we can see from above Artifical Neural Network performs bad with 10 epochs\n",
    "\n",
    "#Building a classification report for the same\n",
    "from sklearn.metrics import confusion_matrix,classification_report\n",
    "import numpy as np\n",
    "y_pred=ann.predict(x_test)\n",
    "y_pred_classes=[np.argmax(element) for element in y_pred]\n",
    "print('Classification Report: \\n', classification_report(y_test,y_pred_classes))"
   ]
  },
  {
   "cell_type": "code",
   "execution_count": 30,
   "metadata": {},
   "outputs": [],
   "source": [
    "#To improve the performance, we now use convolutional neural network (CNN)\n",
    "\n",
    "cnn=models.Sequential([\n",
    "    \n",
    "    #CNN layer 1\n",
    "    layers.Conv2D(filters=32,kernel_size=(3,3),activation='relu', input_shape=(32,32,3)),\n",
    "    #Maxpooling layer 1\n",
    "    layers.MaxPooling2D((2,2)),\n",
    "    \n",
    "    #CNN layer 2\n",
    "    layers.Conv2D(filters=64,kernel_size=(3,3),activation='relu'),\n",
    "    #Maxpooling layer 2\n",
    "    layers.MaxPooling2D((2,2)),\n",
    "    \n",
    "    #Dense\n",
    "    layers.Flatten(),\n",
    "    layers.Dense(64,activation='relu'), \n",
    "    layers.Dense(10,activation='softmax') \n",
    "    ])"
   ]
  },
  {
   "cell_type": "code",
   "execution_count": 31,
   "metadata": {},
   "outputs": [],
   "source": [
    "cnn.compile(optimizer='adam',\n",
    "              loss='sparse_categorical_crossentropy',\n",
    "              metrics=['accuracy'])"
   ]
  },
  {
   "cell_type": "code",
   "execution_count": 44,
   "metadata": {},
   "outputs": [
    {
     "name": "stdout",
     "output_type": "stream",
     "text": [
      "Epoch 1/100\n",
      "50000/50000 [==============================] - 21s 428us/sample - loss: 0.9130 - acc: 0.6793\n",
      "Epoch 2/100\n",
      "50000/50000 [==============================] - 22s 437us/sample - loss: 0.9117 - acc: 0.6806\n",
      "Epoch 3/100\n",
      "50000/50000 [==============================] - 21s 419us/sample - loss: 0.9068 - acc: 0.6813\n",
      "Epoch 4/100\n",
      "50000/50000 [==============================] - 21s 428us/sample - loss: 0.9077 - acc: 0.6810\n",
      "Epoch 5/100\n",
      "50000/50000 [==============================] - 21s 416us/sample - loss: 0.9021 - acc: 0.6836\n",
      "Epoch 6/100\n",
      "50000/50000 [==============================] - 21s 416us/sample - loss: 0.9033 - acc: 0.6823\n",
      "Epoch 7/100\n",
      "50000/50000 [==============================] - 21s 417us/sample - loss: 0.9039 - acc: 0.6838\n",
      "Epoch 8/100\n",
      "50000/50000 [==============================] - 21s 420us/sample - loss: 0.8994 - acc: 0.6831\n",
      "Epoch 9/100\n",
      "50000/50000 [==============================] - 21s 420us/sample - loss: 0.8992 - acc: 0.6871\n",
      "Epoch 10/100\n",
      "50000/50000 [==============================] - 21s 422us/sample - loss: 0.8947 - acc: 0.6858\n",
      "Epoch 11/100\n",
      "50000/50000 [==============================] - 21s 422us/sample - loss: 0.8965 - acc: 0.6847\n",
      "Epoch 12/100\n",
      "50000/50000 [==============================] - 21s 420us/sample - loss: 0.8933 - acc: 0.6862\n",
      "Epoch 13/100\n",
      "50000/50000 [==============================] - 21s 427us/sample - loss: 0.8907 - acc: 0.6876\n",
      "Epoch 14/100\n",
      "50000/50000 [==============================] - 20s 407us/sample - loss: 0.8909 - acc: 0.6863\n",
      "Epoch 15/100\n",
      "50000/50000 [==============================] - 20s 401us/sample - loss: 0.8913 - acc: 0.6875\n",
      "Epoch 16/100\n",
      "50000/50000 [==============================] - 21s 415us/sample - loss: 0.8880 - acc: 0.6868\n",
      "Epoch 17/100\n",
      "50000/50000 [==============================] - 21s 413us/sample - loss: 0.8870 - acc: 0.6878\n",
      "Epoch 18/100\n",
      "50000/50000 [==============================] - 21s 413us/sample - loss: 0.8843 - acc: 0.6885\n",
      "Epoch 19/100\n",
      "50000/50000 [==============================] - 21s 413us/sample - loss: 0.8866 - acc: 0.6887\n",
      "Epoch 20/100\n",
      "50000/50000 [==============================] - 21s 414us/sample - loss: 0.8816 - acc: 0.6879\n",
      "Epoch 21/100\n",
      "50000/50000 [==============================] - 21s 415us/sample - loss: 0.8818 - acc: 0.6897\n",
      "Epoch 22/100\n",
      "50000/50000 [==============================] - 21s 419us/sample - loss: 0.8787 - acc: 0.6900\n",
      "Epoch 23/100\n",
      "50000/50000 [==============================] - 21s 418us/sample - loss: 0.8796 - acc: 0.6909\n",
      "Epoch 24/100\n",
      "50000/50000 [==============================] - 21s 419us/sample - loss: 0.8783 - acc: 0.6902\n",
      "Epoch 25/100\n",
      "50000/50000 [==============================] - 21s 418us/sample - loss: 0.8756 - acc: 0.6920\n",
      "Epoch 26/100\n",
      "50000/50000 [==============================] - 21s 417us/sample - loss: 0.8736 - acc: 0.6929\n",
      "Epoch 27/100\n",
      "50000/50000 [==============================] - 21s 416us/sample - loss: 0.8737 - acc: 0.6938\n",
      "Epoch 28/100\n",
      "50000/50000 [==============================] - 21s 417us/sample - loss: 0.8693 - acc: 0.6944\n",
      "Epoch 29/100\n",
      "50000/50000 [==============================] - 21s 417us/sample - loss: 0.8699 - acc: 0.6947\n",
      "Epoch 30/100\n",
      "50000/50000 [==============================] - 21s 420us/sample - loss: 0.8704 - acc: 0.6943\n",
      "Epoch 31/100\n",
      "50000/50000 [==============================] - 21s 426us/sample - loss: 0.8692 - acc: 0.6937\n",
      "Epoch 32/100\n",
      "50000/50000 [==============================] - 21s 415us/sample - loss: 0.8650 - acc: 0.6953\n",
      "Epoch 33/100\n",
      "50000/50000 [==============================] - 21s 428us/sample - loss: 0.8653 - acc: 0.6946\n",
      "Epoch 34/100\n",
      "50000/50000 [==============================] - 21s 422us/sample - loss: 0.8636 - acc: 0.6965\n",
      "Epoch 35/100\n",
      "50000/50000 [==============================] - 21s 417us/sample - loss: 0.8639 - acc: 0.6977\n",
      "Epoch 36/100\n",
      "50000/50000 [==============================] - 21s 418us/sample - loss: 0.8619 - acc: 0.6962\n",
      "Epoch 37/100\n",
      "50000/50000 [==============================] - 21s 422us/sample - loss: 0.8595 - acc: 0.6980\n",
      "Epoch 38/100\n",
      "50000/50000 [==============================] - 21s 423us/sample - loss: 0.8608 - acc: 0.6981\n",
      "Epoch 39/100\n",
      "50000/50000 [==============================] - 21s 420us/sample - loss: 0.8591 - acc: 0.6984\n",
      "Epoch 40/100\n",
      "50000/50000 [==============================] - 21s 416us/sample - loss: 0.8564 - acc: 0.6998\n",
      "Epoch 41/100\n",
      "50000/50000 [==============================] - 21s 419us/sample - loss: 0.8573 - acc: 0.6994\n",
      "Epoch 42/100\n",
      "50000/50000 [==============================] - 21s 419us/sample - loss: 0.8542 - acc: 0.6971\n",
      "Epoch 43/100\n",
      "50000/50000 [==============================] - 21s 419us/sample - loss: 0.8544 - acc: 0.7004\n",
      "Epoch 44/100\n",
      "50000/50000 [==============================] - 21s 423us/sample - loss: 0.8534 - acc: 0.6994\n",
      "Epoch 45/100\n",
      "50000/50000 [==============================] - 21s 424us/sample - loss: 0.8531 - acc: 0.6981\n",
      "Epoch 46/100\n",
      "50000/50000 [==============================] - 21s 416us/sample - loss: 0.8533 - acc: 0.6989\n",
      "Epoch 47/100\n",
      "50000/50000 [==============================] - 21s 420us/sample - loss: 0.8493 - acc: 0.7022\n",
      "Epoch 48/100\n",
      "50000/50000 [==============================] - 21s 422us/sample - loss: 0.8472 - acc: 0.7020\n",
      "Epoch 49/100\n",
      "50000/50000 [==============================] - 21s 419us/sample - loss: 0.8452 - acc: 0.7023\n",
      "Epoch 50/100\n",
      "50000/50000 [==============================] - 21s 423us/sample - loss: 0.8466 - acc: 0.7014\n",
      "Epoch 51/100\n",
      "50000/50000 [==============================] - 21s 421us/sample - loss: 0.8455 - acc: 0.7024\n",
      "Epoch 52/100\n",
      "50000/50000 [==============================] - 21s 422us/sample - loss: 0.8453 - acc: 0.7000\n",
      "Epoch 53/100\n",
      "50000/50000 [==============================] - 21s 424us/sample - loss: 0.8426 - acc: 0.7025\n",
      "Epoch 54/100\n",
      "50000/50000 [==============================] - 21s 423us/sample - loss: 0.8429 - acc: 0.7038\n",
      "Epoch 55/100\n",
      "50000/50000 [==============================] - 21s 425us/sample - loss: 0.8413 - acc: 0.7035\n",
      "Epoch 56/100\n",
      "50000/50000 [==============================] - 21s 427us/sample - loss: 0.8447 - acc: 0.7012\n",
      "Epoch 57/100\n",
      "50000/50000 [==============================] - 21s 427us/sample - loss: 0.8398 - acc: 0.7039\n",
      "Epoch 58/100\n",
      "50000/50000 [==============================] - 22s 431us/sample - loss: 0.8372 - acc: 0.7038\n",
      "Epoch 59/100\n",
      "50000/50000 [==============================] - 21s 424us/sample - loss: 0.8369 - acc: 0.7060\n",
      "Epoch 60/100\n",
      "50000/50000 [==============================] - 21s 429us/sample - loss: 0.8362 - acc: 0.7055\n",
      "Epoch 61/100\n",
      "50000/50000 [==============================] - 21s 415us/sample - loss: 0.8377 - acc: 0.7045\n",
      "Epoch 62/100\n",
      "50000/50000 [==============================] - 21s 416us/sample - loss: 0.8352 - acc: 0.7058\n",
      "Epoch 63/100\n",
      "50000/50000 [==============================] - 21s 420us/sample - loss: 0.8338 - acc: 0.7064\n",
      "Epoch 64/100\n",
      "50000/50000 [==============================] - 21s 422us/sample - loss: 0.8334 - acc: 0.7060\n",
      "Epoch 65/100\n",
      "50000/50000 [==============================] - 21s 422us/sample - loss: 0.8324 - acc: 0.7073\n",
      "Epoch 66/100\n",
      "50000/50000 [==============================] - 21s 426us/sample - loss: 0.8295 - acc: 0.7078\n",
      "Epoch 67/100\n",
      "50000/50000 [==============================] - 21s 424us/sample - loss: 0.8298 - acc: 0.7072\n",
      "Epoch 68/100\n",
      "50000/50000 [==============================] - 21s 425us/sample - loss: 0.8288 - acc: 0.7092\n",
      "Epoch 69/100\n",
      "50000/50000 [==============================] - 21s 421us/sample - loss: 0.8284 - acc: 0.7077\n",
      "Epoch 70/100\n",
      "50000/50000 [==============================] - 21s 428us/sample - loss: 0.8271 - acc: 0.7077\n",
      "Epoch 71/100\n",
      "50000/50000 [==============================] - 21s 427us/sample - loss: 0.8252 - acc: 0.7096\n",
      "Epoch 72/100\n",
      "50000/50000 [==============================] - 21s 428us/sample - loss: 0.8269 - acc: 0.7092\n",
      "Epoch 73/100\n",
      "50000/50000 [==============================] - 22s 438us/sample - loss: 0.8256 - acc: 0.7087\n",
      "Epoch 74/100\n",
      "50000/50000 [==============================] - 22s 432us/sample - loss: 0.8223 - acc: 0.7114\n",
      "Epoch 75/100\n",
      "50000/50000 [==============================] - 21s 427us/sample - loss: 0.8249 - acc: 0.7097\n",
      "Epoch 76/100\n",
      "50000/50000 [==============================] - 21s 429us/sample - loss: 0.8225 - acc: 0.7105\n",
      "Epoch 77/100\n",
      "50000/50000 [==============================] - 21s 427us/sample - loss: 0.8204 - acc: 0.7095\n",
      "Epoch 78/100\n"
     ]
    },
    {
     "name": "stdout",
     "output_type": "stream",
     "text": [
      "50000/50000 [==============================] - 21s 417us/sample - loss: 0.8213 - acc: 0.7100\n",
      "Epoch 79/100\n",
      "50000/50000 [==============================] - 21s 417us/sample - loss: 0.8187 - acc: 0.7117\n",
      "Epoch 80/100\n",
      "50000/50000 [==============================] - 21s 419us/sample - loss: 0.8188 - acc: 0.7109\n",
      "Epoch 81/100\n",
      "50000/50000 [==============================] - 21s 426us/sample - loss: 0.8180 - acc: 0.7115\n",
      "Epoch 82/100\n",
      "50000/50000 [==============================] - 22s 434us/sample - loss: 0.8186 - acc: 0.7117\n",
      "Epoch 83/100\n",
      "50000/50000 [==============================] - 22s 434us/sample - loss: 0.8168 - acc: 0.7131\n",
      "Epoch 84/100\n",
      "50000/50000 [==============================] - 22s 433us/sample - loss: 0.8168 - acc: 0.7116\n",
      "Epoch 85/100\n",
      "50000/50000 [==============================] - 22s 431us/sample - loss: 0.8154 - acc: 0.7126\n",
      "Epoch 86/100\n",
      "50000/50000 [==============================] - 22s 432us/sample - loss: 0.8159 - acc: 0.7137\n",
      "Epoch 87/100\n",
      "50000/50000 [==============================] - 22s 435us/sample - loss: 0.8108 - acc: 0.7130\n",
      "Epoch 88/100\n",
      "50000/50000 [==============================] - 22s 438us/sample - loss: 0.8128 - acc: 0.7132\n",
      "Epoch 89/100\n",
      "50000/50000 [==============================] - 22s 439us/sample - loss: 0.8108 - acc: 0.7140\n",
      "Epoch 90/100\n",
      "50000/50000 [==============================] - 21s 422us/sample - loss: 0.8119 - acc: 0.7136\n",
      "Epoch 91/100\n",
      "50000/50000 [==============================] - 21s 422us/sample - loss: 0.8095 - acc: 0.7137\n",
      "Epoch 92/100\n",
      "50000/50000 [==============================] - 21s 424us/sample - loss: 0.8073 - acc: 0.7151\n",
      "Epoch 93/100\n",
      "50000/50000 [==============================] - 22s 449us/sample - loss: 0.8104 - acc: 0.7140\n",
      "Epoch 94/100\n",
      "50000/50000 [==============================] - 21s 429us/sample - loss: 0.8094 - acc: 0.7161\n",
      "Epoch 95/100\n",
      "50000/50000 [==============================] - 21s 429us/sample - loss: 0.8087 - acc: 0.7158\n",
      "Epoch 96/100\n",
      "50000/50000 [==============================] - 21s 427us/sample - loss: 0.8081 - acc: 0.7165\n",
      "Epoch 97/100\n",
      "50000/50000 [==============================] - 22s 432us/sample - loss: 0.8059 - acc: 0.7171\n",
      "Epoch 98/100\n",
      "50000/50000 [==============================] - 22s 446us/sample - loss: 0.8055 - acc: 0.7167\n",
      "Epoch 99/100\n",
      "50000/50000 [==============================] - 22s 444us/sample - loss: 0.8014 - acc: 0.7194\n",
      "Epoch 100/100\n",
      "50000/50000 [==============================] - 22s 443us/sample - loss: 0.8030 - acc: 0.7176\n"
     ]
    },
    {
     "data": {
      "text/plain": [
       "<tensorflow.python.keras.callbacks.History at 0x7fcbdf53c2e8>"
      ]
     },
     "execution_count": 44,
     "metadata": {},
     "output_type": "execute_result"
    }
   ],
   "source": [
    "cnn.fit(x_train,y_train,epochs=100)"
   ]
  },
  {
   "cell_type": "code",
   "execution_count": 45,
   "metadata": {},
   "outputs": [
    {
     "name": "stdout",
     "output_type": "stream",
     "text": [
      "10000/10000 [==============================] - 1s 97us/sample - loss: 1.1633 - acc: 0.6230\n"
     ]
    },
    {
     "data": {
      "text/plain": [
       "[1.163304156112671, 0.623]"
      ]
     },
     "execution_count": 45,
     "metadata": {},
     "output_type": "execute_result"
    }
   ],
   "source": [
    "cnn.evaluate(x_test,y_test) #We get an accuracy of 62.30% using CNN"
   ]
  },
  {
   "cell_type": "code",
   "execution_count": 46,
   "metadata": {},
   "outputs": [
    {
     "data": {
      "text/plain": [
       "array([3, 8, 8, 0, 6])"
      ]
     },
     "execution_count": 46,
     "metadata": {},
     "output_type": "execute_result"
    }
   ],
   "source": [
    "y_test[:5]"
   ]
  },
  {
   "cell_type": "code",
   "execution_count": 47,
   "metadata": {},
   "outputs": [
    {
     "data": {
      "text/plain": [
       "array([[1.24252131e-02, 2.32918101e-04, 9.89546329e-02, 5.72778583e-01,\n",
       "        6.18763380e-02, 2.20081419e-01, 2.46640500e-02, 3.33696749e-04,\n",
       "        8.52975808e-03, 1.23341058e-04],\n",
       "       [8.24287534e-02, 1.54140562e-01, 1.03360711e-04, 5.00489477e-05,\n",
       "        1.26009638e-06, 1.65406709e-06, 1.60341933e-05, 1.67580456e-05,\n",
       "        7.02388883e-01, 6.08527139e-02],\n",
       "       [4.33307588e-02, 4.27792929e-02, 1.71870794e-04, 5.07924356e-04,\n",
       "        5.74336445e-04, 6.37414087e-06, 2.02885190e-06, 1.57339062e-04,\n",
       "        8.92679274e-01, 1.97907090e-02],\n",
       "       [1.57484576e-01, 1.24648586e-02, 5.22430707e-03, 8.86654481e-04,\n",
       "        3.86469910e-04, 2.04145931e-06, 1.28198135e-05, 2.29718603e-06,\n",
       "        8.20139945e-01, 3.39596346e-03],\n",
       "       [4.10474314e-07, 1.68266142e-05, 3.03117884e-03, 2.94746310e-02,\n",
       "        1.97628867e-02, 4.12625773e-03, 9.43447113e-01, 1.84924511e-06,\n",
       "        1.37508410e-04, 1.40850693e-06]], dtype=float32)"
      ]
     },
     "execution_count": 47,
     "metadata": {},
     "output_type": "execute_result"
    }
   ],
   "source": [
    "y_pred=cnn.predict(x_test)\n",
    "y_pred[:5]\n",
    "#There are 10 possible values, and we need to find the index for which value is the maximum\n",
    "#For that we use argmax()"
   ]
  },
  {
   "cell_type": "code",
   "execution_count": 48,
   "metadata": {},
   "outputs": [
    {
     "data": {
      "text/plain": [
       "[3, 8, 8, 8, 6]"
      ]
     },
     "execution_count": 48,
     "metadata": {},
     "output_type": "execute_result"
    }
   ],
   "source": [
    "y_classes=[np.argmax(element) for element in y_pred]\n",
    "y_classes[:5]"
   ]
  },
  {
   "cell_type": "code",
   "execution_count": 50,
   "metadata": {},
   "outputs": [
    {
     "data": {
      "text/plain": [
       "([3, 8, 8, 8, 6], array([3, 8, 8, 0, 6]))"
      ]
     },
     "execution_count": 50,
     "metadata": {},
     "output_type": "execute_result"
    }
   ],
   "source": [
    "y_classes[:5],y_test[:5]\n",
    "\n",
    "#The 4th sample is wrong. All others are correctly predicted"
   ]
  },
  {
   "cell_type": "code",
   "execution_count": 59,
   "metadata": {},
   "outputs": [
    {
     "data": {
      "text/plain": [
       "['cat', 'ship', 'ship', 'ship', 'frog', 'frog', 'cat', 'frog', 'cat', 'truck']"
      ]
     },
     "execution_count": 59,
     "metadata": {},
     "output_type": "execute_result"
    }
   ],
   "source": [
    "labels=[]\n",
    "for i in range(len(y_classes)):\n",
    "    if y_classes[i]==0:\n",
    "        labels.append(class_names[0])\n",
    "    elif y_classes[i]==1:\n",
    "        labels.append(class_names[1])\n",
    "    elif y_classes[i]==2:\n",
    "        labels.append(class_names[2])\n",
    "    elif y_classes[i]==3:\n",
    "        labels.append(class_names[3])\n",
    "    elif y_classes[i]==4:\n",
    "        labels.append(class_names[4])\n",
    "    elif y_classes[i]==5:\n",
    "        labels.append(class_names[5])\n",
    "    elif y_classes[i]==6:\n",
    "        labels.append(class_names[6])\n",
    "    elif y_classes[i]==7:\n",
    "        labels.append(class_names[7])\n",
    "    elif y_classes[i]==8:\n",
    "        labels.append(class_names[8])\n",
    "    elif y_classes[i]==9:\n",
    "        labels.append(class_names[9])\n",
    "        \n",
    "labels[:10]"
   ]
  },
  {
   "cell_type": "code",
   "execution_count": 61,
   "metadata": {},
   "outputs": [],
   "source": [
    "np.savetxt(\"CIFAR_10_Predictions_using_CNN.csv\", labels,fmt='%s')"
   ]
  },
  {
   "cell_type": "code",
   "execution_count": null,
   "metadata": {},
   "outputs": [],
   "source": []
  }
 ],
 "metadata": {
  "kernelspec": {
   "display_name": "Python 3",
   "language": "python",
   "name": "python3"
  },
  "language_info": {
   "codemirror_mode": {
    "name": "ipython",
    "version": 3
   },
   "file_extension": ".py",
   "mimetype": "text/x-python",
   "name": "python",
   "nbconvert_exporter": "python",
   "pygments_lexer": "ipython3",
   "version": "3.7.3"
  }
 },
 "nbformat": 4,
 "nbformat_minor": 4
}
